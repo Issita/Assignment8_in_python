{
 "cells": [
  {
   "cell_type": "code",
   "execution_count": 1,
   "id": "46e3212f-b6fd-488a-a175-e5469ab880b0",
   "metadata": {},
   "outputs": [],
   "source": [
    "#Q1. What is Abstraction in OOps? Explain with an example.\n",
    "\n"
   ]
  },
  {
   "cell_type": "code",
   "execution_count": 2,
   "id": "bcf1775c-a186-474e-ba69-3cafa731011e",
   "metadata": {},
   "outputs": [
    {
     "data": {
      "text/plain": [
       "' Abstraction refers to the ability to hide complex implementation details and represent only the essential features of the object.\\n\\n An example - In a car where a driver only needs to khow how to operate steering wheel, accelerator, break rather than how the engine works,\\n how the transmission shift the gears, how the break stops th car\\n \\n '"
      ]
     },
     "execution_count": 2,
     "metadata": {},
     "output_type": "execute_result"
    }
   ],
   "source": [
    "\"\"\" Abstraction refers to the ability to hide complex implementation details and represent only the essential features of the object.\n",
    "\n",
    " An example - In a car where a driver only needs to khow how to operate steering wheel, accelerator, break rather than how the engine works,\n",
    " how the transmission shift the gears, how the break stops th car\n",
    " \n",
    " \"\"\""
   ]
  },
  {
   "cell_type": "code",
   "execution_count": 3,
   "id": "e0e67795-8b84-4014-8ab9-3f9afb3eda0c",
   "metadata": {},
   "outputs": [],
   "source": [
    "import abc\n",
    "class car:\n",
    "    \n",
    "    abc.abstractmethod\n",
    "    def car_braek(self):\n",
    "        pass\n",
    "    \n",
    "    abc.abstractmethod\n",
    "    def car_accelerator(self):\n",
    "        pass\n",
    "        \n",
    "             "
   ]
  },
  {
   "cell_type": "code",
   "execution_count": null,
   "id": "2f5f689a-0871-4998-8937-c76858f01b65",
   "metadata": {},
   "outputs": [],
   "source": []
  },
  {
   "cell_type": "code",
   "execution_count": 4,
   "id": "7518eb44-8fb7-4464-a960-c3cd67aa92d9",
   "metadata": {},
   "outputs": [],
   "source": [
    "# Q2. Differentiate between Abstraction and Encapsulation. Explain with an example.\n",
    "\n"
   ]
  },
  {
   "cell_type": "code",
   "execution_count": 5,
   "id": "a19a27bf-1565-44b8-a379-ab2cda66439d",
   "metadata": {},
   "outputs": [
    {
     "data": {
      "text/plain": [
       "'Abstraction refers to the ability to hide complex implementation details and represent only the essential features of the object.\\n\\n An example - In a car where a driver only needs to khow how to operate steering wheel, accelerator, break rather than how the engine works,\\n how the transmission shift the gears, how the break stops th car'"
      ]
     },
     "execution_count": 5,
     "metadata": {},
     "output_type": "execute_result"
    }
   ],
   "source": [
    "\"\"\"Abstraction refers to the ability to hide complex implementation details and represent only the essential features of the object.\n",
    "\n",
    " An example - In a car where a driver only needs to khow how to operate steering wheel, accelerator, break rather than how the engine works,\n",
    " how the transmission shift the gears, how the break stops th car\"\"\""
   ]
  },
  {
   "cell_type": "code",
   "execution_count": 6,
   "id": "823db1ab-61f1-456a-b706-0b0aa772ebee",
   "metadata": {},
   "outputs": [
    {
     "data": {
      "text/plain": [
       "\"  Encapsulation is the process of hiding the internal details of an object and restricting access to the internal state of the object\\n\\nAn example - consider a Bank Account class. The attributes such as account number, account balance and account holder's name can be made private, accessible only through public methods \\nsuch as deposit() and withdraw().\""
      ]
     },
     "execution_count": 6,
     "metadata": {},
     "output_type": "execute_result"
    }
   ],
   "source": [
    "\"\"\"  Encapsulation is the process of hiding the internal details of an object and restricting access to the internal state of the object\n",
    "\n",
    "An example - consider a Bank Account class. The attributes such as account number, account balance and account holder's name can be made private, accessible only through public methods \n",
    "such as deposit() and withdraw().\"\"\""
   ]
  },
  {
   "cell_type": "code",
   "execution_count": 7,
   "id": "19898882-b4d4-44e4-9bba-e7b01836fa12",
   "metadata": {},
   "outputs": [
    {
     "data": {
      "text/plain": [
       "' abstraction provides a simplified view of the system to the user while encapsulation provides security and control over the data and behavior of the objects. '"
      ]
     },
     "execution_count": 7,
     "metadata": {},
     "output_type": "execute_result"
    }
   ],
   "source": [
    "\"\"\" abstraction provides a simplified view of the system to the user while encapsulation provides security and control over the data and behavior of the objects. \"\"\""
   ]
  },
  {
   "cell_type": "code",
   "execution_count": null,
   "id": "eddfb9d5-aef0-44e9-b4ae-2e6172ce9dde",
   "metadata": {},
   "outputs": [],
   "source": [
    "# Q3. What is abc module in python? Why is it used?"
   ]
  },
  {
   "cell_type": "code",
   "execution_count": 11,
   "id": "ff754767-844f-4041-bfcf-546c44983ab0",
   "metadata": {},
   "outputs": [
    {
     "data": {
      "text/plain": [
       "' abc mofule is stands for Abstract Base Class\\n\\nIt provides a framework or blueprint to create abstract class and methods that can be inherited by subclass'"
      ]
     },
     "execution_count": 11,
     "metadata": {},
     "output_type": "execute_result"
    }
   ],
   "source": [
    "\"\"\" abc mofule is stands for Abstract Base Class\n",
    "\n",
    "It provides a framework or blueprint to create abstract class and methods that can be inherited by subclass\"\"\""
   ]
  },
  {
   "cell_type": "code",
   "execution_count": 10,
   "id": "c7533c49-d26f-452d-8f71-9811a5504d15",
   "metadata": {},
   "outputs": [
    {
     "data": {
      "text/plain": [
       "' The \"abc\" module is useful when you want to define an abstract class, \\nwhere only the functionality signature is defined, but the implementation is \\nleft to the derived classes. The derived classes must implement the methods that are defined in the abstract base class; otherwise, \\nthey will raise a TypeError. '"
      ]
     },
     "execution_count": 10,
     "metadata": {},
     "output_type": "execute_result"
    }
   ],
   "source": [
    "\n",
    "\"\"\" The \"abc\" module is useful when you want to define an abstract class, \n",
    "where only the functionality signature is defined, but the implementation is \n",
    "left to the derived classes. The derived classes must implement the methods that are defined in the abstract base class; otherwise, \n",
    "they will raise a TypeError. \"\"\""
   ]
  },
  {
   "cell_type": "code",
   "execution_count": null,
   "id": "1e4a5072-14ea-47f4-adbd-c1825ed497e3",
   "metadata": {},
   "outputs": [],
   "source": []
  },
  {
   "cell_type": "code",
   "execution_count": 12,
   "id": "bc256229-12f8-4fc3-a34a-12139b705369",
   "metadata": {},
   "outputs": [],
   "source": [
    "# Q4. How can we achieve data abstraction?\n",
    "\n"
   ]
  },
  {
   "cell_type": "code",
   "execution_count": 14,
   "id": "0fa03ac6-8ffa-425a-9d20-2762831ace73",
   "metadata": {},
   "outputs": [
    {
     "data": {
      "text/plain": [
       "' Data abstraction is the process of hiding implementation details while \\nonly exposing necessary information to the users. There are several ways of \\nachieving it, and here are a few: \\n1. Encapsulation: Encapsulation is a technique that allows data to be abstracted by hiding it within objects. \\nThis provides a higher level of security and prevents unauthorized access to data. \\n2. Information hiding: This is the practice of hiding the information that is unnecessary for the end-users to know. \\nBy encapsulating data, you can hide the information that is not needed, making it easier for users to understand and use. \\n3. Object-oriented programming: In object-oriented programming, we can create classes that encapsulate data and functionality. \\nUsers can interact with the objects, while the implementation details are hidden. This makes it easier to create reusable code and manage large projects. \\n4. Abstract classes and interfaces: Abstract classes and interfaces provide an abstraction layer between the implementation and the user. \\nUsers can interact with interfaces and abstract classes without knowing the implementation details. It also allows for multiple implementations of the same interface, making it easier to switch between different implementations. \\n\\nOverall, data abstraction becomes an important technique in programming by providing a way to simplify complexity while still providing a lot of functionality. \\nThese techniques help to ensure data integrity, consistency, and ease of use.'"
      ]
     },
     "execution_count": 14,
     "metadata": {},
     "output_type": "execute_result"
    }
   ],
   "source": [
    "\"\"\" Data abstraction is the process of hiding implementation details while \n",
    "only exposing necessary information to the users. There are several ways of \n",
    "achieving it, and here are a few: \n",
    "1. Encapsulation: Encapsulation is a technique that allows data to be abstracted by hiding it within objects. \n",
    "This provides a higher level of security and prevents unauthorized access to data. \n",
    "2. Information hiding: This is the practice of hiding the information that is unnecessary for the end-users to know. \n",
    "By encapsulating data, you can hide the information that is not needed, making it easier for users to understand and use. \n",
    "3. Object-oriented programming: In object-oriented programming, we can create classes that encapsulate data and functionality. \n",
    "Users can interact with the objects, while the implementation details are hidden. This makes it easier to create reusable code and manage large projects. \n",
    "4. Abstract classes and interfaces: Abstract classes and interfaces provide an abstraction layer between the implementation and the user. \n",
    "Users can interact with interfaces and abstract classes without knowing the implementation details. It also allows for multiple implementations of the same interface, making it easier to switch between different implementations. \n",
    "\n",
    "Overall, data abstraction becomes an important technique in programming by providing a way to simplify complexity while still providing a lot of functionality. \n",
    "These techniques help to ensure data integrity, consistency, and ease of use.\"\"\""
   ]
  },
  {
   "cell_type": "code",
   "execution_count": null,
   "id": "324eb885-ee18-4f4f-814a-54f793fd942d",
   "metadata": {},
   "outputs": [],
   "source": []
  },
  {
   "cell_type": "code",
   "execution_count": 15,
   "id": "cb6f2a2b-5371-4a89-9d62-87d3770812bb",
   "metadata": {},
   "outputs": [],
   "source": [
    "# Q5. Can we create an instance of an abstract class? Explain your answer."
   ]
  },
  {
   "cell_type": "code",
   "execution_count": 16,
   "id": "d4e38b12-c4b2-4520-96a1-31f4fb6d75a6",
   "metadata": {},
   "outputs": [
    {
     "data": {
      "text/plain": [
       "' No, we cannot create an instance of an abstract class. \\nAn abstract class cannot be instantiated because it is not fully implemented. \\nIt always acts as a blueprint or a template for its derived classes to implement their own versions of the abstract methods. \\nAbstract classes are designed to be inherited and their derived classes should implement all the abstract methods present in the abstract class.  '"
      ]
     },
     "execution_count": 16,
     "metadata": {},
     "output_type": "execute_result"
    }
   ],
   "source": [
    "\"\"\" No, we cannot create an instance of an abstract class. \n",
    "An abstract class cannot be instantiated because it is not fully implemented. \n",
    "It always acts as a blueprint or a template for its derived classes to implement their own versions of the abstract methods. \n",
    "Abstract classes are designed to be inherited and their derived classes should implement all the abstract methods present in the abstract class.  \"\"\""
   ]
  },
  {
   "cell_type": "code",
   "execution_count": null,
   "id": "c9be8b57-cc53-40ad-9997-a24392521715",
   "metadata": {},
   "outputs": [],
   "source": []
  }
 ],
 "metadata": {
  "kernelspec": {
   "display_name": "Python 3 (ipykernel)",
   "language": "python",
   "name": "python3"
  },
  "language_info": {
   "codemirror_mode": {
    "name": "ipython",
    "version": 3
   },
   "file_extension": ".py",
   "mimetype": "text/x-python",
   "name": "python",
   "nbconvert_exporter": "python",
   "pygments_lexer": "ipython3",
   "version": "3.10.8"
  }
 },
 "nbformat": 4,
 "nbformat_minor": 5
}
